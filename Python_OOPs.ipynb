{
  "nbformat": 4,
  "nbformat_minor": 0,
  "metadata": {
    "colab": {
      "provenance": [],
      "toc_visible": true,
      "authorship_tag": "ABX9TyMjphqSCmpLREW81gsLUY5x",
      "include_colab_link": true
    },
    "kernelspec": {
      "name": "python3",
      "display_name": "Python 3"
    },
    "language_info": {
      "name": "python"
    }
  },
  "cells": [
    {
      "cell_type": "markdown",
      "metadata": {
        "id": "view-in-github",
        "colab_type": "text"
      },
      "source": [
        "<a href=\"https://colab.research.google.com/github/Manishsuthar-01/Python-OOPs/blob/main/Python_OOPs.ipynb\" target=\"_parent\"><img src=\"https://colab.research.google.com/assets/colab-badge.svg\" alt=\"Open In Colab\"/></a>"
      ]
    },
    {
      "cell_type": "markdown",
      "source": [
        "#**PYTHON OOPs Questions**#"
      ],
      "metadata": {
        "id": "3XYM1RvU7W4H"
      }
    },
    {
      "cell_type": "markdown",
      "source": [
        "**1. What is Object-Oriented Programming (OOP)?**\n",
        ">Object-Oriented Programming (OOP) is a programming paradigm based on the concept of “objects,” which are instances of classes. It helps organize code by bundling data (attributes) and behaviors (methods) into single units.\n",
        "\n",
        ">**Key Concepts of OOP:**\n",
        "\n",
        ">**Class:** A blueprint or template for creating objects. It defines attributes and methods.\n",
        "\n",
        ">>**Example:** class Car { color; drive(); }\n",
        "\n",
        ">**Object:** An instance of a class.\n",
        "\n",
        ">>**Example:** myCar = new Car();\n",
        "\n",
        ">**Encapsulation**: Hides internal details of how an object works and only exposes what's necessary.\n",
        "\n",
        ">>**Example:** You interact with a car’s steering wheel, not its engine.\n",
        "\n",
        ">**Inheritance:** Allows a class to inherit features from another class.\n",
        "\n",
        ">>**Example:** class ElectricCar extends Car {}\n",
        "\n",
        ">**Polymorphism:** Allows methods to have different behaviors depending on the object.\n",
        "\n",
        ">>**Example:** drive() behaves differently for Car and Bike.\n",
        "\n",
        ">**Abstraction:** Hides complexity by showing only essential features.\n",
        "\n",
        ">>**Example:** You use a remote without knowing its internal electronics."
      ],
      "metadata": {
        "id": "9Ulwczf07nuX"
      }
    },
    {
      "cell_type": "markdown",
      "source": [
        "**2. What is a class in OOP?**\n",
        ">A class in Object-Oriented Programming (OOP) is a blueprint or template used to create objects. It defines the attributes (data) and methods (functions) that the objects created from the class will have.\n",
        "\n",
        ">**Think of a class like:**\n",
        "\n",
        ">A blueprint for a house: The blueprint describes features (rooms, doors), but it's not the house itself.\n",
        "\n",
        ">An object is the actual house built from that blueprint.\n",
        "\n",
        ">class keyword is used to define a class.\n",
        "\n",
        ">The constructor method (__init__ in Python) initializes the object with values.\n",
        "\n",
        ">Methods define what the object can do.\n",
        "\n",
        ">Attributes store the data related to the object."
      ],
      "metadata": {
        "id": "P3ZJgv8q8pmV"
      }
    },
    {
      "cell_type": "code",
      "source": [
        "#example\n",
        "\n",
        "class Car:\n",
        "    def __init__(self, brand, color):\n",
        "        self.brand = brand\n",
        "        self.color = color\n",
        "\n",
        "    def drive(self):\n",
        "        print(f\"The {self.color} {self.brand} is driving.\")\n",
        "\n",
        "\n",
        "\n",
        "my_car = Car(\"Toyota\", \"red\")\n",
        "my_car.drive()\n"
      ],
      "metadata": {
        "colab": {
          "base_uri": "https://localhost:8080/"
        },
        "id": "XFJrQz689IUD",
        "outputId": "f6ea05c7-0df4-40df-fc9d-c5040b8edb35"
      },
      "execution_count": null,
      "outputs": [
        {
          "output_type": "stream",
          "name": "stdout",
          "text": [
            "The red Toyota is driving.\n"
          ]
        }
      ]
    },
    {
      "cell_type": "markdown",
      "source": [
        "**3. What is an object in OOP?**\n",
        ">An object in Object-Oriented Programming (OOP) is an instance of a class. It represents a real-world entity that has:\n",
        "\n",
        ">>Attributes (data/state)\n",
        "\n",
        ">>Methods (behavior)\n",
        "\n",
        ">**Think of it like this:**\n",
        "\n",
        ">Class = blueprint (e.g., a plan for a car)\n",
        "\n",
        ">Object = actual item built from the blueprint (e.g., a specific car like a red Toyota)"
      ],
      "metadata": {
        "id": "cX1PD-zC9X6U"
      }
    },
    {
      "cell_type": "code",
      "source": [
        "#example:\n",
        "\n",
        "class Car:\n",
        "    def __init__(self, brand, color):\n",
        "        self.brand = brand\n",
        "        self.color = color\n",
        "\n",
        "    def drive(self):\n",
        "        print(f\"The {self.color} {self.brand} is driving.\")\n",
        "\n",
        "\n",
        "my_car = Car(\"Toyota\", \"red\")\n",
        "my_car.drive()\n"
      ],
      "metadata": {
        "colab": {
          "base_uri": "https://localhost:8080/"
        },
        "id": "qcZ6vxPD9v2L",
        "outputId": "bc0fb6d4-4403-4875-de9e-4b52cfef08ac"
      },
      "execution_count": null,
      "outputs": [
        {
          "output_type": "stream",
          "name": "stdout",
          "text": [
            "The red Toyota is driving.\n"
          ]
        }
      ]
    },
    {
      "cell_type": "markdown",
      "source": [
        "**4. What is the difference between abstraction and encapsulation?**\n",
        ">**Abstraction in Python**\n",
        "\n",
        ">**Definition:** Hiding implementation details and exposing only the necessary parts to the user.\n",
        "\n",
        ">You don't care how the engine starts internally.\n",
        "\n",
        ">You just know Car implements a start_engine() method.\n",
        ">This is abstraction—you interact with high-level functionality.\n",
        "\n",
        ">**How it's done in Python:** With abstract base classes and methods using the abc module.\n",
        "\n",
        "\n",
        "\n",
        "\n",
        "\n",
        "\n",
        "\n",
        "\n",
        "\n"
      ],
      "metadata": {
        "id": "QqSnZGPe91aT"
      }
    },
    {
      "cell_type": "code",
      "source": [
        "#Example:\n",
        "\n",
        "from abc import ABC, abstractmethod\n",
        "\n",
        "class Vehicle(ABC):\n",
        "    @abstractmethod\n",
        "    def start_engine(self):\n",
        "        pass\n",
        "\n",
        "class Car(Vehicle):\n",
        "    def start_engine(self):\n",
        "        print(\"Engine started with key.\")\n",
        "\n",
        "\n",
        "vehicle = Car()\n",
        "vehicle.start_engine()"
      ],
      "metadata": {
        "colab": {
          "base_uri": "https://localhost:8080/"
        },
        "id": "Cpbt2Ten_OCx",
        "outputId": "0fd081c1-6dd2-4df4-82f3-e5f64fa683c3"
      },
      "execution_count": null,
      "outputs": [
        {
          "output_type": "stream",
          "name": "stdout",
          "text": [
            "Engine started with key.\n"
          ]
        }
      ]
    },
    {
      "cell_type": "markdown",
      "source": [
        ">**Encapsulation in Python**\n",
        "\n",
        ">**Definition:** Restricting access to parts of an object to protect its internal state.\n",
        "\n",
        ">__balance is encapsulated—you can’t access it directly.\n",
        "\n",
        ">Only deposit() and get_balance() control how it's changed or viewed.\n",
        "\n",
        ">**How it's done in Python:**\n",
        "\n",
        ">Using underscore _ or double underscore __ to indicate protected or private members.\n"
      ],
      "metadata": {
        "id": "4VK4IrPV_V2i"
      }
    },
    {
      "cell_type": "code",
      "source": [
        "#Example:\n",
        "\n",
        "class Account:\n",
        "    def __init__(self, balance):\n",
        "        self.__balance = balance\n",
        "\n",
        "    def deposit(self, amount):\n",
        "        if amount > 0:\n",
        "            self.__balance += amount\n",
        "\n",
        "    def get_balance(self):\n",
        "        return self.__balance\n",
        "\n",
        "\n",
        "acc = Account(100)\n",
        "acc.deposit(50)\n",
        "print(acc.get_balance())\n"
      ],
      "metadata": {
        "colab": {
          "base_uri": "https://localhost:8080/"
        },
        "id": "Y8El6wUx_OXg",
        "outputId": "e92e8cc3-bd3a-43ae-b455-ec483d593b4e"
      },
      "execution_count": null,
      "outputs": [
        {
          "output_type": "stream",
          "name": "stdout",
          "text": [
            "150\n"
          ]
        }
      ]
    },
    {
      "cell_type": "markdown",
      "source": [
        "**5. What are dunder methods in Python?**\n",
        ">Dunder methods (short for \"double underscore\" methods) in Python are special methods that have names starting and ending with double underscores, like __init__, __str__, and __len__.\n",
        "\n",
        ">**They are also known as:**\n",
        "\n",
        ">>Magic methods\n",
        "\n",
        ">>Special methods\n",
        "\n",
        "\n",
        ">Dunder methods let you customize the behavior of your classes in Python. They are used to define how objects of your class interact with built-in functions and operators.\n",
        "\n",
        ">Dunder methods are not meant to be called directly. Use built-in functions (len(), print(), etc.), and Python calls them behind the scenes.\n",
        "\n",
        ">They make your classes feel like native Python objects (e.g., iterable, comparable, printable).\n",
        "\n",
        ">Overusing them or using them incorrectly can make code confusing—use only when it makes the object behavior clearer.\n"
      ],
      "metadata": {
        "id": "kk4JwMuj_eqH"
      }
    },
    {
      "cell_type": "code",
      "source": [
        "#example:\n",
        "\n",
        "class Book:\n",
        "    def __init__(self, title, pages):\n",
        "        self.title = title\n",
        "        self.pages = pages\n",
        "\n",
        "    def __str__(self):\n",
        "        return f\"'{self.title}' has {self.pages} pages\"\n",
        "\n",
        "    def __len__(self):\n",
        "        return self.pages\n",
        "\n",
        "book = Book(\"Python 101\", 300)\n",
        "\n",
        "print(book)\n",
        "print(len(book))"
      ],
      "metadata": {
        "colab": {
          "base_uri": "https://localhost:8080/"
        },
        "id": "Ma9XMX3yAGTu",
        "outputId": "237194e6-45b7-4c37-be2d-cce66e313a95"
      },
      "execution_count": null,
      "outputs": [
        {
          "output_type": "stream",
          "name": "stdout",
          "text": [
            "'Python 101' has 300 pages\n",
            "300\n"
          ]
        }
      ]
    },
    {
      "cell_type": "markdown",
      "source": [
        "**6. Explain the concept of inheritance in OOP?**\n",
        ">Inheritance is a core concept in OOP that allows a class (called a child or subclass) to inherit attributes and methods from another class (called a parent or superclass).\n",
        "\n",
        "\n",
        ">Code reuse – Write common functionality once in the parent class.\n",
        "\n",
        ">Logical hierarchy – Model real-world relationships (e.g., Animal → Dog).\n",
        "\n",
        ">Maintainability – Centralize shared behavior for easier updates.\n",
        "\n"
      ],
      "metadata": {
        "id": "6iOWfjwyALfP"
      }
    },
    {
      "cell_type": "code",
      "source": [
        "#Basic Syntax in Python\n",
        "\n",
        "class Parent:\n",
        "    def greet(self):\n",
        "        print(\"Hello from Parent\")\n",
        "\n",
        "class Child(Parent):\n",
        "    pass\n",
        "\n",
        "obj = Child()\n",
        "obj.greet()\n"
      ],
      "metadata": {
        "colab": {
          "base_uri": "https://localhost:8080/"
        },
        "id": "FJK8LIwjAqfW",
        "outputId": "3e5f1f2a-9e70-4312-d8fd-41a2b6e8f1e5"
      },
      "execution_count": null,
      "outputs": [
        {
          "output_type": "stream",
          "name": "stdout",
          "text": [
            "Hello from Parent\n"
          ]
        }
      ]
    },
    {
      "cell_type": "code",
      "source": [
        "#Overriding Methods\n",
        "#Child classes can override (redefine) methods from the parent class.\n",
        "\n",
        "\n",
        "class Parent:\n",
        "    def greet(self):\n",
        "        print(\"Hello from Parent\")\n",
        "\n",
        "class Child(Parent):\n",
        "    def greet(self):\n",
        "        print(\"Hello from Child\")\n",
        "\n",
        "obj = Child()\n",
        "obj.greet()"
      ],
      "metadata": {
        "colab": {
          "base_uri": "https://localhost:8080/"
        },
        "id": "ZG5CSP6mAxgN",
        "outputId": "36ee5c1c-ab3b-4c7e-ca4c-2914dcb7a852"
      },
      "execution_count": null,
      "outputs": [
        {
          "output_type": "stream",
          "name": "stdout",
          "text": [
            "Hello from Child\n"
          ]
        }
      ]
    },
    {
      "cell_type": "code",
      "source": [
        "#Using super()\n",
        "#The super() function is used to call the parent class’s methods from the child class.\n",
        "\n",
        "\n",
        "class Parent:\n",
        "    def greet(self):\n",
        "        print(\"Hello from Parent\")\n",
        "\n",
        "class Child(Parent):\n",
        "    def greet(self):\n",
        "        super().greet()  # Call parent's greet\n",
        "        print(\"Hello from Child\")\n",
        "\n",
        "obj = Child()\n",
        "obj.greet()"
      ],
      "metadata": {
        "colab": {
          "base_uri": "https://localhost:8080/"
        },
        "id": "xVAv94YoA36l",
        "outputId": "9e826883-ecd7-46ea-ac7c-000562205a51"
      },
      "execution_count": null,
      "outputs": [
        {
          "output_type": "stream",
          "name": "stdout",
          "text": [
            "Hello from Parent\n",
            "Hello from Child\n"
          ]
        }
      ]
    },
    {
      "cell_type": "markdown",
      "source": [
        "**7. What is polymorphism in OOP?**\n",
        ">Polymorphism means “many forms”. It allows objects of different classes to be treated as objects of a common superclass, typically through shared methods or interfaces.\n",
        "\n",
        ">Promotes code flexibility and extensibility\n",
        "\n",
        ">Enables writing generic code that works with objects of different types\n",
        "\n",
        ">Helps achieve loose coupling in systems"
      ],
      "metadata": {
        "id": "A3U3EdUMA-dd"
      }
    },
    {
      "cell_type": "code",
      "source": [
        "#Example: Polymorphism via Method Overriding\n",
        "\n",
        "class Animal:\n",
        "    def speak(self):\n",
        "        print(\"Animal speaks\")\n",
        "\n",
        "class Dog(Animal):\n",
        "    def speak(self):\n",
        "        print(\"Dog barks\")\n",
        "\n",
        "class Cat(Animal):\n",
        "    def speak(self):\n",
        "        print(\"Cat meows\")\n",
        "\n",
        "def make_animal_speak(animal):\n",
        "    animal.speak()\n",
        "\n",
        "make_animal_speak(Dog())\n",
        "make_animal_speak(Cat())"
      ],
      "metadata": {
        "colab": {
          "base_uri": "https://localhost:8080/"
        },
        "id": "SzHFd6KEBbdc",
        "outputId": "6b1eb3cb-5b39-48e7-c6d7-8e61d5121e67"
      },
      "execution_count": null,
      "outputs": [
        {
          "output_type": "stream",
          "name": "stdout",
          "text": [
            "Dog barks\n",
            "Cat meows\n"
          ]
        }
      ]
    },
    {
      "cell_type": "code",
      "source": [
        "#Polymorphism with Common Interfaces\n",
        "\n",
        "\n",
        "class Bird:\n",
        "    def fly(self):\n",
        "        print(\"Bird is flying\")\n",
        "\n",
        "class Plane:\n",
        "    def fly(self):\n",
        "        print(\"Plane is flying\")\n",
        "\n",
        "def let_it_fly(flyer):\n",
        "    flyer.fly()\n",
        "\n",
        "let_it_fly(Bird())\n",
        "let_it_fly(Plane())"
      ],
      "metadata": {
        "colab": {
          "base_uri": "https://localhost:8080/"
        },
        "id": "RuEt3uamBmUk",
        "outputId": "45300c51-e3e4-43c6-fd73-ce94ab146262"
      },
      "execution_count": null,
      "outputs": [
        {
          "output_type": "stream",
          "name": "stdout",
          "text": [
            "Bird is flying\n",
            "Plane is flying\n"
          ]
        }
      ]
    },
    {
      "cell_type": "markdown",
      "source": [
        "**8. How is encapsulation achieved in Python?**\n",
        ">Encapsulation in Python is the technique of hiding the internal state and restricting direct access to some parts of an object, ensuring that data is accessed and modified through controlled methods.\n",
        "\n",
        ">**Public:** A public attribute like self.value can be accessed from anywhere in the program without any restrictions.\n",
        "\n",
        ">**Protected:** A protected attribute, indicated by a single underscore like _self.value, is meant for internal use within the class or its subclasses, but this is only a convention and not enforced by Python.\n",
        "\n",
        ">**Private:** A private attribute with double underscores like __self.value uses name mangling, which makes it harder to access directly from outside the class to protect the data."
      ],
      "metadata": {
        "id": "96f1pmSLByXE"
      }
    },
    {
      "cell_type": "code",
      "source": [
        "#Example: Encapsulation with Private Attributes\n",
        "\n",
        "class BankAccount:\n",
        "    def __init__(self, balance):\n",
        "        self.__balance = balance\n",
        "\n",
        "    def deposit(self, amount):\n",
        "        if amount > 0:\n",
        "            self.__balance += amount\n",
        "\n",
        "    def withdraw(self, amount):\n",
        "        if 0 < amount <= self.__balance:\n",
        "            self.__balance -= amount\n",
        "\n",
        "    def get_balance(self):\n",
        "        return self.__balance\n",
        "\n",
        "account = BankAccount(1000)\n",
        "account.deposit(500)\n",
        "print(account.get_balance())"
      ],
      "metadata": {
        "colab": {
          "base_uri": "https://localhost:8080/"
        },
        "id": "p4pdyY0DCYQu",
        "outputId": "78f93262-421e-4bbd-b6e1-7d8a8b5bf2d2"
      },
      "execution_count": null,
      "outputs": [
        {
          "output_type": "stream",
          "name": "stdout",
          "text": [
            "1500\n"
          ]
        }
      ]
    },
    {
      "cell_type": "code",
      "source": [
        "#Encapsulation via Getters and Setters\n",
        "\n",
        "class Person:\n",
        "    def __init__(self):\n",
        "        self.__age = 0\n",
        "\n",
        "    def set_age(self, age):\n",
        "        if 0 <= age <= 120:\n",
        "            self.__age = age\n",
        "\n",
        "    def get_age(self):\n",
        "        return self.__age\n",
        "\n",
        "p = Person()\n",
        "p.set_age(25)\n",
        "print(p.get_age())\n",
        "\n",
        "\n",
        "#Or use property decorators:\n",
        "\n",
        "\n",
        "class Person:\n",
        "    def __init__(self):\n",
        "        self.__age = 0\n",
        "\n",
        "    @property\n",
        "    def age(self):\n",
        "        return self.__age\n",
        "\n",
        "    @age.setter\n",
        "    def age(self, value):\n",
        "        if 0 <= value <= 120:\n",
        "            self.__age = value\n",
        "\n",
        "p = Person()\n",
        "p.age = 30\n",
        "print(p.age)"
      ],
      "metadata": {
        "colab": {
          "base_uri": "https://localhost:8080/"
        },
        "id": "m4HwUeJOCbQy",
        "outputId": "30eb7611-3fd1-46bd-f695-947b5862d45b"
      },
      "execution_count": null,
      "outputs": [
        {
          "output_type": "stream",
          "name": "stdout",
          "text": [
            "25\n",
            "30\n"
          ]
        }
      ]
    },
    {
      "cell_type": "markdown",
      "source": [
        "**9. What is a constructor in Python?**\n",
        ">A constructor in Python is a special method that is automatically called when you create (instantiate) an object of a class. Its main purpose is to initialize the object’s attributes.\n",
        "\n",
        ">**The Constructor Method:** __init__\n",
        "\n",
        ">In Python, the constructor is named __init__.\n",
        "\n",
        ">It usually takes self as the first parameter, followed by any other parameters needed to initialize the object.\n",
        "\n",
        ">It does not return anything (None implicitly)."
      ],
      "metadata": {
        "id": "g622iYAUCtBC"
      }
    },
    {
      "cell_type": "code",
      "source": [
        "#Example\n",
        "\n",
        "class Person:\n",
        "    def __init__(self, name, age):\n",
        "        self.name = name\n",
        "        self.age = age\n",
        "\n",
        "p1 = Person(\"Manish\", 25)\n",
        "print(p1.name)\n",
        "print(p1.age)\n"
      ],
      "metadata": {
        "colab": {
          "base_uri": "https://localhost:8080/"
        },
        "id": "qwzMEEoSDIXB",
        "outputId": "c3078036-3677-422f-a8e3-7595ac264521"
      },
      "execution_count": null,
      "outputs": [
        {
          "output_type": "stream",
          "name": "stdout",
          "text": [
            "Manish\n",
            "25\n"
          ]
        }
      ]
    },
    {
      "cell_type": "markdown",
      "source": [
        "**10. What are class and static methods in Python?**\n",
        "> **Class Methods**\n",
        "\n",
        ">Defined using the @classmethod decorator.\n",
        "\n",
        ">The first parameter is cls, which refers to the class itself, not an instance.\n",
        "\n",
        ">Can access and modify class state (class variables), but not instance variables.\n",
        "\n",
        ">Can be called on the class itself or on instances."
      ],
      "metadata": {
        "id": "xLHvpoGzDfl5"
      }
    },
    {
      "cell_type": "code",
      "source": [
        "#example:\n",
        "\n",
        "class Person:\n",
        "    species = \"Homo sapiens\"\n",
        "\n",
        "    def __init__(self, name):\n",
        "        self.name = name\n",
        "\n",
        "    @classmethod\n",
        "    def get_species(cls):\n",
        "        return cls.species\n",
        "\n",
        "print(Person.get_species())\n",
        "\n",
        "p = Person(\"Manish\")\n",
        "print(p.get_species())\n"
      ],
      "metadata": {
        "colab": {
          "base_uri": "https://localhost:8080/"
        },
        "id": "9vJeyyV9D5rh",
        "outputId": "9501b246-c805-4189-bbbb-76204bf989df"
      },
      "execution_count": null,
      "outputs": [
        {
          "output_type": "stream",
          "name": "stdout",
          "text": [
            "Homo sapiens\n",
            "Homo sapiens\n"
          ]
        }
      ]
    },
    {
      "cell_type": "markdown",
      "source": [
        ">**Static Methods**\n",
        "\n",
        ">Defined using the @staticmethod decorator.\n",
        "\n",
        ">Do not take self or cls parameters.\n",
        "\n",
        ">Behave like regular functions but belong to the class’s namespace.\n",
        "\n",
        ">Cannot access or modify class or instance state.\n",
        "\n",
        ">Useful for utility functions related to the class."
      ],
      "metadata": {
        "id": "FuPfDA04EDWP"
      }
    },
    {
      "cell_type": "code",
      "source": [
        "#Example\n",
        "\n",
        "class MathHelper:\n",
        "\n",
        "    @staticmethod\n",
        "    def add(x, y):\n",
        "        return x + y\n",
        "\n",
        "print(MathHelper.add(5, 3))\n",
        "\n",
        "m = MathHelper()\n",
        "print(m.add(10, 4))\n"
      ],
      "metadata": {
        "colab": {
          "base_uri": "https://localhost:8080/"
        },
        "id": "vTmGJ5jvEL8m",
        "outputId": "ae6d9d11-8803-42fd-fa0f-8c5dfb552ddd"
      },
      "execution_count": null,
      "outputs": [
        {
          "output_type": "stream",
          "name": "stdout",
          "text": [
            "8\n",
            "14\n"
          ]
        }
      ]
    },
    {
      "cell_type": "markdown",
      "source": [
        "**11. What is method overloading in Python?**\n",
        ">Method overloading in Python refers to the ability to define multiple methods with the same name but different arguments (either in number or type). However, unlike languages like Java or C++, Python does not support traditional method overloading directly. Instead, Python achieves similar behavior through default arguments, variable-length arguments (*args, **kwargs), or manual type checking inside methods."
      ],
      "metadata": {
        "id": "rVH9GOBuDTex"
      }
    },
    {
      "cell_type": "code",
      "source": [
        "#Example using default arguments:\n",
        "\n",
        "class Calculator:\n",
        "    def add(self, a, b=0, c=0):\n",
        "        return a + b + c\n",
        "\n",
        "calc = Calculator()\n",
        "print(calc.add(5))\n",
        "print(calc.add(5, 10))\n",
        "print(calc.add(5, 10, 15))"
      ],
      "metadata": {
        "colab": {
          "base_uri": "https://localhost:8080/"
        },
        "id": "yfgrm-XADegg",
        "outputId": "ef228887-fd1e-4f55-ee6b-5f37fc7ff4de"
      },
      "execution_count": null,
      "outputs": [
        {
          "output_type": "stream",
          "name": "stdout",
          "text": [
            "5\n",
            "15\n",
            "30\n"
          ]
        }
      ]
    },
    {
      "cell_type": "code",
      "source": [
        "#Example using *args:\n",
        "\n",
        "class Calculator:\n",
        "    def add(self, *args):\n",
        "        return sum(args)\n",
        "\n",
        "calc = Calculator()\n",
        "print(calc.add(1, 2))\n",
        "print(calc.add(1, 2, 3, 4))"
      ],
      "metadata": {
        "colab": {
          "base_uri": "https://localhost:8080/"
        },
        "id": "i1bFRdrIDnoe",
        "outputId": "94c1da74-8607-48f7-c3cd-f290609a1bb0"
      },
      "execution_count": null,
      "outputs": [
        {
          "output_type": "stream",
          "name": "stdout",
          "text": [
            "3\n",
            "10\n"
          ]
        }
      ]
    },
    {
      "cell_type": "code",
      "source": [
        "#Emulating overloading with type checking:\n",
        "\n",
        "class Printer:\n",
        "    def print_data(self, data):\n",
        "        if isinstance(data, int):\n",
        "            print(f\"Integer: {data}\")\n",
        "        elif isinstance(data, str):\n",
        "            print(f\"String: {data}\")\n",
        "        else:\n",
        "            print(\"Unsupported type\")\n",
        "\n",
        "p = Printer()\n",
        "p.print_data(10)\n",
        "p.print_data(\"Hi\")"
      ],
      "metadata": {
        "colab": {
          "base_uri": "https://localhost:8080/"
        },
        "id": "Mlwg974wDtWV",
        "outputId": "1aaf79bc-4ada-43e2-ae3f-2e24303eeef8"
      },
      "execution_count": null,
      "outputs": [
        {
          "output_type": "stream",
          "name": "stdout",
          "text": [
            "Integer: 10\n",
            "String: Hi\n"
          ]
        }
      ]
    },
    {
      "cell_type": "markdown",
      "source": [
        "**12. What is method overriding in OOP?**\n",
        ">Method overriding in Object-Oriented Programming (OOP) is a feature that allows a subclass (child class) to provide a specific implementation of a method that is already defined in its superclass (parent class).\n",
        "\n",
        ">The method in the subclass must have the same name, signature (number and type of parameters), and is intended to replace or extend the behavior of the parent class method.\n",
        "\n",
        ">**Purpose of Method Overriding:**\n",
        "\n",
        ">To customize or extend functionality inherited from the parent class.\n",
        "\n",
        ">To achieve runtime polymorphism (i.e., method to be executed is determined at runtime based on the object type).\n",
        "\n"
      ],
      "metadata": {
        "id": "DSas0anhD5wh"
      }
    },
    {
      "cell_type": "code",
      "source": [
        "#Example:\n",
        "\n",
        "class Animal:\n",
        "    def speak(self):\n",
        "        print(\"The animal makes a sound\")\n",
        "\n",
        "class Dog(Animal):\n",
        "    def speak(self):\n",
        "        print(\"The dog barks\")\n",
        "\n",
        "# Usage\n",
        "a = Animal()\n",
        "a.speak()\n",
        "\n",
        "d = Dog()\n",
        "d.speak()\n"
      ],
      "metadata": {
        "colab": {
          "base_uri": "https://localhost:8080/"
        },
        "id": "S5ETsL-wEfwr",
        "outputId": "475f3555-9f83-41f7-cb2c-1010470ca8aa"
      },
      "execution_count": null,
      "outputs": [
        {
          "output_type": "stream",
          "name": "stdout",
          "text": [
            "The animal makes a sound\n",
            "The dog barks\n"
          ]
        }
      ]
    },
    {
      "cell_type": "markdown",
      "source": [
        "**13. What is a property decorator in Python?**\n",
        ">The @property decorator in Python is used to define getter methods in a class that can be accessed like attributes, rather than calling them like methods. It's part of Python’s way of implementing encapsulation and managed attributes.\n",
        "\n",
        ">**Purpose:**\n",
        "\n",
        ">It lets you hide the internal implementation and expose a clean interface.\n",
        "\n",
        ">You can add logic to attribute access (e.g. validation, computation).\n",
        "\n",
        ">It helps implement read-only or computed properties."
      ],
      "metadata": {
        "id": "4JPya7dIE2qu"
      }
    },
    {
      "cell_type": "code",
      "source": [
        "#Basic Syntax:\n",
        "\n",
        "class MyClass:\n",
        "    def __init__(self, value):\n",
        "        self._value = value\n",
        "    @property\n",
        "    def value(self):\n",
        "        return self._value\n",
        "\n",
        "obj = MyClass(10)\n",
        "print(obj.value)"
      ],
      "metadata": {
        "colab": {
          "base_uri": "https://localhost:8080/"
        },
        "id": "hy3WFPVVFQi0",
        "outputId": "74d33123-46ab-4269-abf9-0fd06a241466"
      },
      "execution_count": null,
      "outputs": [
        {
          "output_type": "stream",
          "name": "stdout",
          "text": [
            "10\n"
          ]
        }
      ]
    },
    {
      "cell_type": "code",
      "source": [
        "#Adding a Setter with @property:\n",
        "\n",
        "class MyClass:\n",
        "    def __init__(self, value):\n",
        "        self._value = value\n",
        "\n",
        "    @property\n",
        "    def value(self):\n",
        "        return self._value\n",
        "\n",
        "    @value.setter\n",
        "    def value(self, new_value):\n",
        "        if new_value < 0:\n",
        "            raise ValueError(\"Value cannot be negative\")\n",
        "        self._value = new_value\n",
        "\n",
        "obj = MyClass(5)\n",
        "obj.value = 10\n",
        "print(obj.value)"
      ],
      "metadata": {
        "colab": {
          "base_uri": "https://localhost:8080/"
        },
        "id": "HXyMMedEFVs8",
        "outputId": "5c2f8319-1bc4-459e-a4ee-14ecf7dacfd1"
      },
      "execution_count": null,
      "outputs": [
        {
          "output_type": "stream",
          "name": "stdout",
          "text": [
            "10\n"
          ]
        }
      ]
    },
    {
      "cell_type": "markdown",
      "source": [
        "**14. Why is polymorphism important in OOP?**\n",
        ">Polymorphism is a core concept in Object-Oriented Programming (OOP) that allows objects of different classes to be treated as objects of a common superclass. Its importance lies in enabling flexibility, scalability, and maintainability in software design.\n",
        "\n",
        "\n",
        ">The term polymorphism means \"many forms\". In OOP, it allows the same interface or method name to behave differently based on the object that’s calling it.\n",
        "\n",
        ">**There are two main types:**\n",
        "\n",
        ">>Compile-time polymorphism (e.g. method overloading – limited in Python)\n",
        "\n",
        ">>Runtime polymorphism (e.g. method overriding – fully supported in Python)\n",
        "\n",
        ">**Why Polymorphism Is Important:**\n",
        "\n",
        ">**Code Reusability**\n",
        ">>You can write generic code that works with objects of different types.\n",
        "\n",
        ">>You can pass any object that has a speak() method—no need to write separate functions for each animal type."
      ],
      "metadata": {
        "id": "vSVswx2iFp1k"
      }
    },
    {
      "cell_type": "code",
      "source": [
        "def make_it_speak(animal):\n",
        "    animal.speak()"
      ],
      "metadata": {
        "id": "jlnH0_2bGaJr"
      },
      "execution_count": null,
      "outputs": []
    },
    {
      "cell_type": "markdown",
      "source": [
        ">**Extensibility**\n",
        "\n",
        ">>New classes can be introduced without changing existing code, as long as they follow the expected interface.\n",
        "\n"
      ],
      "metadata": {
        "id": "9jZJAKqVGbrL"
      }
    },
    {
      "cell_type": "code",
      "source": [
        "class Cat(Animal):\n",
        "    def speak(self):\n",
        "        print(\"The cat meows\")\n"
      ],
      "metadata": {
        "id": "4PQb8d1IGkqU"
      },
      "execution_count": null,
      "outputs": []
    },
    {
      "cell_type": "markdown",
      "source": [
        ">**Clean and Scalable Design**\n",
        "\n",
        ">>You can build systems that are modular and easy to extend or maintain.\n",
        "\n",
        ">>>**Example:** In GUI frameworks, all UI elements may share a common interface like draw(), even if they’re buttons, labels, or sliders.\n",
        "\n",
        ">**Supports Interface-Based Programming**\n",
        "\n",
        ">You can program to interfaces or abstract classes, not specific implementations.\n",
        "\n",
        ">You can work with Shape objects and not care whether they are Circle, Square, etc."
      ],
      "metadata": {
        "id": "sTdFmga0GpNS"
      }
    },
    {
      "cell_type": "code",
      "source": [
        "class Shape:\n",
        "    def area(self):\n",
        "        pass\n",
        "\n",
        "class Circle(Shape):\n",
        "    def area(self):\n",
        "        return 3.14 * self.radius ** 2\n"
      ],
      "metadata": {
        "id": "rsSWSovnG8Wy"
      },
      "execution_count": null,
      "outputs": []
    },
    {
      "cell_type": "markdown",
      "source": [
        "**15. What is an abstract class in Python?**\n",
        ">An abstract class in Python is a class that cannot be instantiated directly and is designed to be inherited by other classes. It often serves as a template for other classes, defining methods that must be implemented by any subclass.\n",
        "\n",
        ">**Purpose:**\n",
        "\n",
        ">>Enforce a common interface in subclasses\n",
        "\n",
        ">>Provide default behavior while requiring certain methods to be overridden\n",
        "\n",
        ">>Support abstraction and polymorphism\n",
        "\n",
        ">**How to Create an Abstract Class in Python**:\n",
        "\n",
        ">>Use the abc (Abstract Base Class) module.\n",
        "\n",
        "\n",
        ">>Here, Animal is an abstract class, and speak() is an abstract method — it must be implemented in any non-abstract subclass."
      ],
      "metadata": {
        "id": "x4_5vwqzHtV5"
      }
    },
    {
      "cell_type": "code",
      "source": [
        "from abc import ABC, abstractmethod\n",
        "\n",
        "class Animal(ABC):\n",
        "    @abstractmethod\n",
        "    def speak(self):\n",
        "        pass"
      ],
      "metadata": {
        "id": "mAEycB4jITMn"
      },
      "execution_count": null,
      "outputs": []
    },
    {
      "cell_type": "code",
      "source": [
        "#Example with subclass:\n",
        "\n",
        "class Dog(Animal):\n",
        "    def speak(self):\n",
        "        return \"Bark\"\n",
        "\n",
        "d = Dog()\n",
        "print(d.speak())"
      ],
      "metadata": {
        "colab": {
          "base_uri": "https://localhost:8080/"
        },
        "id": "ceuA7Bi4IXc_",
        "outputId": "0055cde2-a180-4eb6-ba93-61e60855e090"
      },
      "execution_count": null,
      "outputs": [
        {
          "output_type": "stream",
          "name": "stdout",
          "text": [
            "Bark\n"
          ]
        }
      ]
    },
    {
      "cell_type": "markdown",
      "source": [
        "**16. What are the advantages of OOP?**\n",
        ">**Modularity**\n",
        "\n",
        ">Code is organized into classes and objects, which group related data and behaviors.\n",
        "\n",
        ">This separation makes the code easier to understand and debug.\n",
        "\n",
        ">>**Example:** You can define a Car class independently from a Person class, even if both interact in your program.\n",
        "\n",
        "\n",
        ">**Reusability**\n",
        "\n",
        ">Through inheritance, a class can reuse methods and properties of another class.\n",
        "\n",
        ">This avoids code duplication and promotes the DRY principle (Don’t Repeat Yourself).\n",
        "\n",
        ">>**Example:** A Truck class can inherit common features from a base Vehicle class instead of redefining them.\n",
        "\n",
        ">**Encapsulation**\n",
        "\n",
        ">Data (attributes) and logic (methods) are bundled together inside classes.\n",
        "\n",
        ">Access to sensitive data is controlled through access modifiers and methods like getters/setters.\n",
        "\n",
        ">>**Benefit:** Prevents unintended interference and enhances security and maintainability.\n",
        "\n",
        ">**Polymorphism**\n",
        "\n",
        ">The same interface can represent different underlying forms (data types).\n",
        "\n",
        ">It allows functions or methods to use objects of different classes interchangeably if they share a common interface.\n",
        "\n",
        ">>**Benefit:** Enables flexible and scalable code.\n",
        "\n",
        ">**Abstraction**\n",
        "\n",
        ">OOP lets you focus on what an object does, rather than how it does it.\n",
        "\n",
        ">Complex implementation details are hidden behind simple interfaces.\n",
        "\n",
        ">>**Benefit:** Simplifies system design and makes it easier to work with large codebases.\n",
        "\n",
        ">**Maintainability**\n",
        "\n",
        ">Because of modularity, changes in one part of the code usually don't affect others.\n",
        "\n",
        ">It’s easier to find, fix, or enhance specific features.\n",
        "\n",
        ">>**Benefit:** Saves time and reduces bugs during updates.\n",
        "\n",
        ">**Extensibility**\n",
        "\n",
        ">New features or classes can be added with minimal impact on existing code.\n",
        "\n",
        ">You can override methods to change behavior without touching the parent class.\n",
        "\n"
      ],
      "metadata": {
        "id": "hc1baFp3IdAA"
      }
    },
    {
      "cell_type": "markdown",
      "source": [
        "**17. What is the difference between a class variable and an instance variable?**\n",
        ">**Class Variable:**\n",
        "\n",
        ">A class variable is defined within a class but outside any method.\n",
        "\n",
        ">It belongs to the class itself rather than any specific object.\n",
        "\n",
        ">This variable is shared by all instances of the class, meaning all objects access the same value.\n",
        "\n",
        ">You can access a class variable using either the class name (e.g., ClassName.variable) or through an object.\n",
        "\n",
        ">Class variables are typically used to store information common to all instances of the class.\n",
        "\n",
        ">**Instance Variable:**\n",
        "\n",
        ">An instance variable is usually defined inside the __init__ method of a class.\n",
        "\n",
        ">It belongs to a specific instance (object) of the class.\n",
        "\n",
        ">Each object gets its own copy of the instance variables, making them unique to each object.\n",
        "\n",
        ">Instance variables are accessed using the object name followed by a dot (e.g., object.variable).\n",
        "\n",
        ">They are used to store data specific to each individual object.\n",
        "\n"
      ],
      "metadata": {
        "id": "8fK-zFiKJlt9"
      }
    },
    {
      "cell_type": "code",
      "source": [
        "#Example:\n",
        "\n",
        "class Dog:\n",
        "    species = \"Canine\"\n",
        "\n",
        "    def __init__(self, name, age):\n",
        "        self.name = name\n",
        "        self.age = age\n",
        "\n",
        "dog1 = Dog(\"Buddy\", 3)\n",
        "dog2 = Dog(\"Bella\", 5)\n",
        "\n",
        "print(dog1.name)\n",
        "print(dog2.name)\n",
        "print(dog1.species)\n",
        "print(dog2.species)"
      ],
      "metadata": {
        "colab": {
          "base_uri": "https://localhost:8080/"
        },
        "id": "MeBk0JFtKTP7",
        "outputId": "193b0a04-beb7-419a-ee6f-6d73662fde5a"
      },
      "execution_count": null,
      "outputs": [
        {
          "output_type": "stream",
          "name": "stdout",
          "text": [
            "Buddy\n",
            "Bella\n",
            "Canine\n",
            "Canine\n"
          ]
        }
      ]
    },
    {
      "cell_type": "markdown",
      "source": [
        "**18. What is multiple inheritance in Python?**\n",
        ">Multiple inheritance in Python means that a class can inherit from more than one parent class. This allows a child class to combine the functionality of multiple base classes.\n",
        "\n",
        ">Here, Child inherits from both Parent1 and Parent2."
      ],
      "metadata": {
        "id": "Zbg3APYnKcV7"
      }
    },
    {
      "cell_type": "code",
      "source": [
        "class Parent1:\n",
        "    def method1(self):\n",
        "        print(\"Method from Parent1\")\n",
        "\n",
        "class Parent2:\n",
        "    def method2(self):\n",
        "        print(\"Method from Parent2\")\n",
        "\n",
        "class Child(Parent1, Parent2):\n",
        "    pass\n",
        "\n",
        "obj = Child()\n",
        "obj.method1()\n",
        "obj.method2()\n"
      ],
      "metadata": {
        "colab": {
          "base_uri": "https://localhost:8080/"
        },
        "id": "3h8BtekjK6Ei",
        "outputId": "bb04f5e2-96cd-4f25-8cfa-a881c56cfcda"
      },
      "execution_count": null,
      "outputs": [
        {
          "output_type": "stream",
          "name": "stdout",
          "text": [
            "Method from Parent1\n",
            "Method from Parent2\n"
          ]
        }
      ]
    },
    {
      "cell_type": "markdown",
      "source": [
        ">**Real-Life Analogy:**\n",
        "\n",
        ">Imagine a smartphone class that inherits features from both a Camera class and a Phone class — it can take photos and make calls.\n",
        "\n",
        ">**Method Resolution Order (MRO):**\n",
        "\n",
        ">When a method or attribute is called, Python looks for it in the following order:\n",
        "\n",
        ">>The child class\n",
        "\n",
        ">>The first parent class\n",
        "\n",
        ">>The next parent class (left to right)\n",
        "\n",
        ">**You can check the MRO using:**\n",
        "\n",
        ">>>**print**(Child.__mro__)\n",
        "\n",
        ">If multiple parent classes inherit from a common ancestor, it may cause ambiguity. Python handles this with the C3 Linearization algorithm."
      ],
      "metadata": {
        "id": "uTB_uC5hLJMf"
      }
    },
    {
      "cell_type": "code",
      "source": [
        "class A:\n",
        "    def greet(self):\n",
        "        print(\"Hello from A\")\n",
        "\n",
        "class B(A):\n",
        "    def greet(self):\n",
        "        print(\"Hello from B\")\n",
        "\n",
        "class C(A):\n",
        "    def greet(self):\n",
        "        print(\"Hello from C\")\n",
        "\n",
        "class D(B, C):\n",
        "    pass\n",
        "\n",
        "d = D()\n",
        "d.greet()\n",
        "print(D.__mro__)\n"
      ],
      "metadata": {
        "colab": {
          "base_uri": "https://localhost:8080/"
        },
        "id": "TbPg-gORLokJ",
        "outputId": "0ee44e59-e049-4af3-d27b-a31f420df385"
      },
      "execution_count": null,
      "outputs": [
        {
          "output_type": "stream",
          "name": "stdout",
          "text": [
            "Hello from B\n",
            "(<class '__main__.D'>, <class '__main__.B'>, <class '__main__.C'>, <class '__main__.A'>, <class 'object'>)\n"
          ]
        }
      ]
    },
    {
      "cell_type": "markdown",
      "source": [
        "**19. Explain the purpose of ‘’__str__’ and ‘__repr__’ ‘ methods in Python.**\n",
        ">In Python, the __str__() and __repr__() methods are special methods (also called magic methods) that define how objects are represented as strings. They are especially useful for debugging, logging, and making objects more readable or informative.\n",
        "\n",
        ">**__str__() – User-Friendly String Representation**\n",
        "\n",
        ">>**Purpose:** Returns a readable, nicely formatted string meant for end users.\n",
        "\n",
        ">>**Called by:** str(object) or print(object)\n",
        "\n",
        ">>**Goal:** Give a human-readable representation."
      ],
      "metadata": {
        "id": "H0FVN9kdLtqp"
      }
    },
    {
      "cell_type": "code",
      "source": [
        "#example:\n",
        "\n",
        "class Book:\n",
        "    def __init__(self, title, author):\n",
        "        self.title = title\n",
        "        self.author = author\n",
        "\n",
        "    def __str__(self):\n",
        "        return f\"'{self.title}' by {self.author}\"\n",
        "\n",
        "book = Book(\"1984\", \"George Orwell\")\n",
        "print(book)\n"
      ],
      "metadata": {
        "colab": {
          "base_uri": "https://localhost:8080/"
        },
        "id": "MlXCcNSzMcPR",
        "outputId": "09a87559-c783-43c6-8eb3-a7dd087e539c"
      },
      "execution_count": null,
      "outputs": [
        {
          "output_type": "stream",
          "name": "stdout",
          "text": [
            "'1984' by George Orwell\n"
          ]
        }
      ]
    },
    {
      "cell_type": "markdown",
      "source": [
        ">**__repr__() – Developer-Friendly String Representation**\n",
        "\n",
        ">>**Purpose:** Returns a detailed, unambiguous string meant for developers.\n",
        "\n",
        ">>**Called by:** repr(object), or in the interactive shell, or when no __str__() is defined.\n",
        "\n",
        ">>**Goal:** Ideally, the string returned should be a valid Python expression that could recreate the object (though that's not always required)."
      ],
      "metadata": {
        "id": "Lb3HjwCTMjBg"
      }
    },
    {
      "cell_type": "code",
      "source": [
        "#Example:\n",
        "\n",
        "class Book:\n",
        "    def __init__(self, title, author):\n",
        "        self.title = title\n",
        "        self.author = author\n",
        "\n",
        "    def __repr__(self):\n",
        "        return f\"Book('{self.title}', '{self.author}')\"\n",
        "\n",
        "book = Book(\"1984\", \"George Orwell\")\n",
        "print(repr(book))  # Output: Book('1984', 'George Orwell')\n"
      ],
      "metadata": {
        "colab": {
          "base_uri": "https://localhost:8080/"
        },
        "id": "27pOOWbaMvpv",
        "outputId": "a26bcc80-4a3e-44a1-8b5e-e16b8f29c931"
      },
      "execution_count": null,
      "outputs": [
        {
          "output_type": "stream",
          "name": "stdout",
          "text": [
            "Book('1984', 'George Orwell')\n"
          ]
        }
      ]
    },
    {
      "cell_type": "markdown",
      "source": [
        "**20. What is the significance of the ‘super()’ function in Python?**\n",
        ">The super() function in Python is used to call methods from a parent (super) class inside a subclass. It’s especially important in inheritance when you want to extend or customize the behavior of the parent class without completely rewriting it.\n",
        "\n",
        ">**Significance of super():**\n",
        "\n",
        ">**Access Parent Class Methods Easily:**\n",
        "\n",
        ">Instead of explicitly naming the parent class, super() dynamically resolves the correct parent method.\n",
        "\n",
        ">This is helpful when dealing with multiple inheritance or when the parent class name might change.\n",
        "\n",
        ">**Supports Code Reusability:**\n",
        "\n",
        ">Allows a subclass to reuse and build upon the functionality of its superclass.\n",
        "\n",
        ">**Facilitates Multiple Inheritance:**\n",
        "\n",
        ">Python uses the Method Resolution Order (MRO), and super() respects that order, making sure the right method is called in complex inheritance hierarchies.\n",
        "\n",
        ">**Cleaner and More Maintainable Code:**\n",
        "\n",
        ">Avoids hardcoding parent class names, which reduces errors if the class hierarchy changes.\n",
        "\n"
      ],
      "metadata": {
        "id": "Pk2097wXNBGI"
      }
    },
    {
      "cell_type": "code",
      "source": [
        "#Example:\n",
        "\n",
        "\n",
        "class Animal:\n",
        "    def speak(self):\n",
        "        print(\"Animal speaks\")\n",
        "\n",
        "class Dog(Animal):\n",
        "    def speak(self):\n",
        "        super().speak()\n",
        "        print(\"Dog barks\")\n",
        "\n",
        "dog = Dog()\n",
        "dog.speak()\n",
        "\n"
      ],
      "metadata": {
        "colab": {
          "base_uri": "https://localhost:8080/"
        },
        "id": "fl-PWjbzNhj6",
        "outputId": "a9190723-10c3-4a67-9d58-36b861691a8f"
      },
      "execution_count": null,
      "outputs": [
        {
          "output_type": "stream",
          "name": "stdout",
          "text": [
            "Animal speaks\n",
            "Dog barks\n"
          ]
        }
      ]
    },
    {
      "cell_type": "markdown",
      "source": [
        "**21. What is the significance of the __del__ method in Python?**\n",
        ">The __del__ method in Python is a special method called a destructor. It is defined in a class and is automatically called when an object is about to be destroyed—that is, when its reference count drops to zero and Python's garbage collector reclaims the object.\n",
        "\n",
        "\n"
      ],
      "metadata": {
        "id": "SEYJH9TjgcK-"
      }
    },
    {
      "cell_type": "code",
      "source": [
        "#Syntax:\n",
        "\n",
        "class MyClass:\n",
        "    def __del__(self):\n",
        "        # cleanup code\n",
        "        print(\"Object is being destroyed\")"
      ],
      "metadata": {
        "id": "1muGNc3Dg1H8"
      },
      "execution_count": null,
      "outputs": []
    },
    {
      "cell_type": "markdown",
      "source": [
        ">**Key Points about __del__:**\n",
        "\n",
        ">**Resource Cleanup:**\n",
        "\n",
        ">It can be used to release external resources like files, network connections, or database handles.\n",
        "\n",
        ">However, the preferred approach is to use context managers (with statements), which are more predictable.\n",
        "\n",
        ">**Unpredictable Timing:**\n",
        "\n",
        ">Unlike languages like C++ where destructors are called deterministically, in Python the timing of __del__ is unpredictable because it depends on the garbage collector.\n",
        "\n",
        ">**Reference Cycles:**\n",
        "\n",
        ">If an object is part of a reference cycle (e.g. self-referencing), __del__ may never be called unless the cycle is explicitly broken, or Python’s cycle detector handles it.\n",
        "\n",
        ">**Exceptions:**\n",
        "\n",
        ">If an exception occurs in __del__, it is ignored and not propagated, but a warning may be printed to sys.stderr.\n",
        "\n",
        ">**Danger in Usage:**\n",
        "\n",
        ">__del__ can sometimes make debugging harder. Using it incorrectly can delay object cleanup or cause resource leaks.\n",
        "\n",
        ">It can interfere with interpreter shutdown, especially when objects referenced in __del__ have already been deleted.\n",
        "\n"
      ],
      "metadata": {
        "id": "KJaRIBeRg4A8"
      }
    },
    {
      "cell_type": "markdown",
      "source": [
        "**22. What is the difference between @staticmethod and @classmethod in Python?**\n",
        ">In Python, both @staticmethod and @classmethod are decorators used to define methods that are not regular instance methods. However, they behave differently in terms of how they interact with the class and instances.\n",
        "\n",
        ">**@staticmethod**\n",
        "\n",
        ">A method that does not take self or cls.\n",
        "\n",
        ">Behaves like a plain function, but is namespaced inside the class.\n",
        "\n",
        ">Cannot access or modify the class or instance state.\n",
        "\n"
      ],
      "metadata": {
        "id": "IxwQSNJdhaD0"
      }
    },
    {
      "cell_type": "code",
      "source": [
        "#Example:\n",
        "\n",
        "class MathUtils:\n",
        "    @staticmethod\n",
        "    def add(a, b):\n",
        "        return a + b\n",
        "\n",
        "\n",
        "print(MathUtils.add(3, 4))\n"
      ],
      "metadata": {
        "colab": {
          "base_uri": "https://localhost:8080/"
        },
        "id": "JQOo8P2Ah2jb",
        "outputId": "c7eae699-fc04-41b0-9ff9-4125ab80affe"
      },
      "execution_count": null,
      "outputs": [
        {
          "output_type": "stream",
          "name": "stdout",
          "text": [
            "7\n"
          ]
        }
      ]
    },
    {
      "cell_type": "markdown",
      "source": [
        ">**@classmethod**\n",
        "\n",
        ">Takes cls as the first parameter (instead of self).\n",
        "\n",
        ">Can access and modify class-level state.\n",
        "\n",
        ">Commonly used for factory methods that create instances in different ways."
      ],
      "metadata": {
        "id": "lf6TvAqEh52q"
      }
    },
    {
      "cell_type": "code",
      "source": [
        "class Person:\n",
        "    species = \"Homo sapiens\"\n",
        "\n",
        "    def __init__(self, name):\n",
        "        self.name = name\n",
        "\n",
        "    @classmethod\n",
        "    def from_string(cls, name_str):\n",
        "        return cls(name_str)\n",
        "\n",
        "\n",
        "p = Person.from_string(\"Manish\")\n",
        "print(p.name)\n"
      ],
      "metadata": {
        "colab": {
          "base_uri": "https://localhost:8080/"
        },
        "id": "_vxMrD0SiBK6",
        "outputId": "8d5a36f3-999e-4c02-eb7d-a3e1819d2bcd"
      },
      "execution_count": null,
      "outputs": [
        {
          "output_type": "stream",
          "name": "stdout",
          "text": [
            "Manish\n"
          ]
        }
      ]
    },
    {
      "cell_type": "markdown",
      "source": [
        "**23. How does polymorphism work in Python with inheritance?**\n",
        ">Polymorphism in Python allows objects of different classes to be treated through a common interface, typically via inheritance. It enables the same operation (e.g., method call) to behave differently on different classes, depending on their implementation.\n",
        "\n",
        ">When a base class defines a method, and derived classes override it, polymorphism allows Python to dynamically choose the appropriate method implementation at runtime, based on the actual object's class."
      ],
      "metadata": {
        "id": "5ExzCad4iJmU"
      }
    },
    {
      "cell_type": "code",
      "source": [
        "#example\n",
        "\n",
        "class Animal:\n",
        "    def speak(self):\n",
        "        return \"Some sound\"\n",
        "\n",
        "class Dog(Animal):\n",
        "    def speak(self):\n",
        "        return \"Woof!\"\n",
        "\n",
        "class Cat(Animal):\n",
        "    def speak(self):\n",
        "        return \"Meow!\"\n",
        "\n",
        "# Polymorphic behavior\n",
        "def make_animal_speak(animal):\n",
        "    print(animal.speak())\n",
        "\n",
        "# Usage\n",
        "animals = [Dog(), Cat(), Animal()]\n",
        "for a in animals:\n",
        "    make_animal_speak(a)\n"
      ],
      "metadata": {
        "colab": {
          "base_uri": "https://localhost:8080/"
        },
        "id": "Yb-Xme47ieRh",
        "outputId": "9bc3cee7-2399-43db-c81a-5a9a509ab809"
      },
      "execution_count": null,
      "outputs": [
        {
          "output_type": "stream",
          "name": "stdout",
          "text": [
            "Woof!\n",
            "Meow!\n",
            "Some sound\n"
          ]
        }
      ]
    },
    {
      "cell_type": "markdown",
      "source": [
        "> **Key Concepts**\n",
        "\n",
        ">**Method Overriding**\n",
        "\n",
        ">Subclasses redefine a method from the parent class.\n",
        "\n",
        ">Enables different behaviors with the same method name.\n",
        "\n",
        ">**Dynamic Dispatch**\n",
        "\n",
        ">Python chooses the method based on the actual object, not its reference type.\n",
        "\n",
        ">**Duck Typing (Informal Polymorphism)**\n",
        "\n",
        ">Python also supports polymorphism without inheritance:"
      ],
      "metadata": {
        "id": "hxtOLi3cig0K"
      }
    },
    {
      "cell_type": "code",
      "source": [
        "#Example\n",
        "\n",
        "class Bird:\n",
        "    def fly(self):\n",
        "        print(\"Flying with wings\")\n",
        "\n",
        "class Airplane:\n",
        "    def fly(self):\n",
        "        print(\"Flying with engines\")\n",
        "\n",
        "def lift_off(flyer):\n",
        "    flyer.fly()\n",
        "\n",
        "lift_off(Bird())\n",
        "lift_off(Airplane())\n"
      ],
      "metadata": {
        "colab": {
          "base_uri": "https://localhost:8080/"
        },
        "id": "7aUmJe-aizlW",
        "outputId": "5c21f25a-ebaf-445a-8b20-ccdef24dc4d5"
      },
      "execution_count": null,
      "outputs": [
        {
          "output_type": "stream",
          "name": "stdout",
          "text": [
            "Flying with wings\n",
            "Flying with engines\n"
          ]
        }
      ]
    },
    {
      "cell_type": "markdown",
      "source": [
        "**24. What is method chaining in Python OOP?**\n",
        ">Method Chaining in Python OOP\n",
        "Method chaining is a technique in object-oriented programming where multiple method calls are linked together in a single statement, by having each method return the object itself (typically self).\n",
        "\n",
        ">All chained methods must return self or another appropriate object.\n",
        "\n",
        ">Debugging is harder if one method fails mid-chain.\n",
        "\n",
        ">Avoid overusing: can reduce readability when chains are too long or complex.\n",
        "\n",
        ">**Example:**\n",
        "\n",
        ">Each method modifies the object and returns self.\n",
        "\n",
        ">This allows the next method to operate on the same instance, reducing the need for multiple lines."
      ],
      "metadata": {
        "id": "ghY91Kixi71B"
      }
    },
    {
      "cell_type": "code",
      "source": [
        "class Person:\n",
        "    def __init__(self, name=\"\"):\n",
        "        self.name = name\n",
        "        self.age = 0\n",
        "\n",
        "    def set_name(self, name):\n",
        "        self.name = name\n",
        "        return self\n",
        "\n",
        "    def set_age(self, age):\n",
        "        self.age = age\n",
        "        return self\n",
        "\n",
        "    def greet(self):\n",
        "        print(f\"Hi, I'm {self.name} and I'm {self.age} years old.\")\n",
        "        return self\n",
        "\n",
        "\n",
        "p = Person().set_name(\"Manish\").set_age(25).greet()\n"
      ],
      "metadata": {
        "colab": {
          "base_uri": "https://localhost:8080/"
        },
        "id": "bnhTrAiwjZeQ",
        "outputId": "62e263d3-6e14-41f7-acbe-e422ea1dc051"
      },
      "execution_count": null,
      "outputs": [
        {
          "output_type": "stream",
          "name": "stdout",
          "text": [
            "Hi, I'm Manish and I'm 25 years old.\n"
          ]
        }
      ]
    },
    {
      "cell_type": "markdown",
      "source": [
        "**25. What is the purpose of the __call__ method in Python?**\n",
        ">The __call__ method in Python allows an instance of a class to be called like a function.\n",
        "\n",
        ">The __call__ method makes an object callable. That means you can use parentheses () on an instance, just like you would with a function.\n",
        "\n"
      ],
      "metadata": {
        "id": "I-sKTyDQjhew"
      }
    },
    {
      "cell_type": "code",
      "source": [
        "#Syntex:\n",
        "\n",
        "class MyClass:\n",
        "    def __call__(self, *args, **kwargs):\n",
        "\n",
        "        print(\"Called with:\", args, kwargs)\n",
        "\n",
        "obj = MyClass()\n",
        "obj(1, 2, key='value')\n"
      ],
      "metadata": {
        "colab": {
          "base_uri": "https://localhost:8080/"
        },
        "id": "BaQWn2qqj9nt",
        "outputId": "a84a21b1-a858-4d2a-abe7-ef4458de2908"
      },
      "execution_count": null,
      "outputs": [
        {
          "output_type": "stream",
          "name": "stdout",
          "text": [
            "Called with: (1, 2) {'key': 'value'}\n"
          ]
        }
      ]
    },
    {
      "cell_type": "markdown",
      "source": [
        ">**Use Cases:**\n",
        "\n",
        "> **Function-like Objects**\n",
        "\n",
        ">Create objects that behave like functions but also hold state."
      ],
      "metadata": {
        "id": "wNarbOZTkDbf"
      }
    },
    {
      "cell_type": "code",
      "source": [
        "class Multiplier:\n",
        "    def __init__(self, factor):\n",
        "        self.factor = factor\n",
        "\n",
        "    def __call__(self, value):\n",
        "        return value * self.factor\n",
        "\n",
        "double = Multiplier(2)\n",
        "print(double(10))\n"
      ],
      "metadata": {
        "colab": {
          "base_uri": "https://localhost:8080/"
        },
        "id": "AJJEafSekWcu",
        "outputId": "d07f9546-47a6-4431-8677-fc4172f7ea8c"
      },
      "execution_count": null,
      "outputs": [
        {
          "output_type": "stream",
          "name": "stdout",
          "text": [
            "20\n"
          ]
        }
      ]
    },
    {
      "cell_type": "markdown",
      "source": [
        ">**Decorator Objects**\n",
        "\n",
        ">Use class instances as decorators:"
      ],
      "metadata": {
        "id": "cVt6oG3CkZjP"
      }
    },
    {
      "cell_type": "code",
      "source": [
        "class MyDecorator:\n",
        "    def __init__(self, func):\n",
        "        self.func = func\n",
        "\n",
        "    def __call__(self, *args, **kwargs):\n",
        "        print(\"Before call\")\n",
        "        result = self.func(*args, **kwargs)\n",
        "        print(\"After call\")\n",
        "        return result\n",
        "\n",
        "@MyDecorator\n",
        "def say_hello():\n",
        "    print(\"Hello!\")\n",
        "\n",
        "say_hello()\n"
      ],
      "metadata": {
        "colab": {
          "base_uri": "https://localhost:8080/"
        },
        "id": "aD5-NpRnkdG1",
        "outputId": "30debe4f-efe0-494b-fc61-2df1a5393b74"
      },
      "execution_count": null,
      "outputs": [
        {
          "output_type": "stream",
          "name": "stdout",
          "text": [
            "Before call\n",
            "Hello!\n",
            "After call\n"
          ]
        }
      ]
    },
    {
      "cell_type": "markdown",
      "source": [
        ">**Stateful Callbacks**\n",
        "\n",
        ">Store internal data while acting like a callback."
      ],
      "metadata": {
        "id": "m126MJdfkfdm"
      }
    },
    {
      "cell_type": "code",
      "source": [
        "class Counter:\n",
        "    def __init__(self):\n",
        "        self.count = 0\n",
        "\n",
        "    def __call__(self):\n",
        "        self.count += 1\n",
        "        print(f\"Call #{self.count}\")\n",
        "\n",
        "c = Counter()\n",
        "c()\n",
        "c()"
      ],
      "metadata": {
        "colab": {
          "base_uri": "https://localhost:8080/"
        },
        "id": "fyKC7OG5kjOD",
        "outputId": "f7f659e8-1f24-4294-cd40-5e5e5a62cdcd"
      },
      "execution_count": null,
      "outputs": [
        {
          "output_type": "stream",
          "name": "stdout",
          "text": [
            "Call #1\n",
            "Call #2\n"
          ]
        }
      ]
    },
    {
      "cell_type": "markdown",
      "source": [
        "#**Practical Questions**"
      ],
      "metadata": {
        "id": "UYd0jL1gkpS3"
      }
    },
    {
      "cell_type": "markdown",
      "source": [
        "**1. Create a parent class Animal with a method speak() that prints a generic message. Create a child class Dog\n",
        "that overrides the speak() method to print \"Bark!\".**\n"
      ],
      "metadata": {
        "id": "ELaDlAywky3F"
      }
    },
    {
      "cell_type": "code",
      "source": [
        "\n",
        "class Animal:\n",
        "    def speak(self):\n",
        "        print(\"The animal makes a sound.\")\n",
        "\n",
        "\n",
        "class Dog(Animal):\n",
        "    def speak(self):\n",
        "        print(\"Bark!\")\n",
        "\n",
        "\n",
        "a = Animal()\n",
        "a.speak()\n",
        "\n",
        "d = Dog()\n",
        "d.speak()\n"
      ],
      "metadata": {
        "colab": {
          "base_uri": "https://localhost:8080/"
        },
        "id": "-ple7O5VlACb",
        "outputId": "22d6aa69-59c8-4080-9045-18ce4bba7a1f"
      },
      "execution_count": null,
      "outputs": [
        {
          "output_type": "stream",
          "name": "stdout",
          "text": [
            "The animal makes a sound.\n",
            "Bark!\n"
          ]
        }
      ]
    },
    {
      "cell_type": "markdown",
      "source": [
        "**2. Write a program to create an abstract class Shape with a method area(). Derive classes Circle and Rectangle\n",
        "from it and implement the area() method in both.**"
      ],
      "metadata": {
        "id": "z9Dc0OoflEEV"
      }
    },
    {
      "cell_type": "code",
      "source": [
        "from abc import ABC, abstractmethod\n",
        "import math\n",
        "\n",
        "\n",
        "class Shape(ABC):\n",
        "    @abstractmethod\n",
        "    def area(self):\n",
        "        pass\n",
        "\n",
        "\n",
        "class Circle(Shape):\n",
        "    def __init__(self, radius):\n",
        "        self.radius = radius\n",
        "\n",
        "    def area(self):\n",
        "        return math.pi * self.radius ** 2\n",
        "\n",
        "\n",
        "class Rectangle(Shape):\n",
        "    def __init__(self, width, height):\n",
        "        self.width = width\n",
        "        self.height = height\n",
        "\n",
        "    def area(self):\n",
        "        return self.width * self.height\n",
        "\n",
        "\n",
        "shapes = [\n",
        "    Circle(5),\n",
        "    Rectangle(4, 6)\n",
        "]\n",
        "\n",
        "for shape in shapes:\n",
        "    print(f\"{shape.__class__.__name__} area: {shape.area():.2f}\")\n"
      ],
      "metadata": {
        "colab": {
          "base_uri": "https://localhost:8080/"
        },
        "id": "JvHdkfKflM8E",
        "outputId": "74649f3d-2292-4b30-81f4-98d6dd7ff7d1"
      },
      "execution_count": null,
      "outputs": [
        {
          "output_type": "stream",
          "name": "stdout",
          "text": [
            "Circle area: 78.54\n",
            "Rectangle area: 24.00\n"
          ]
        }
      ]
    },
    {
      "cell_type": "markdown",
      "source": [
        "**3. Implement a multi-level inheritance scenario where a class Vehicle has an attribute type. Derive a class Car\n",
        "and further derive a class ElectricCar that adds a battery attribute.**"
      ],
      "metadata": {
        "id": "VnZjvqXAlUs-"
      }
    },
    {
      "cell_type": "code",
      "source": [
        "\n",
        "class Vehicle:\n",
        "    def __init__(self, vehicle_type):\n",
        "        self.type = vehicle_type\n",
        "\n",
        "    def display_type(self):\n",
        "        print(f\"Vehicle type: {self.type}\")\n",
        "\n",
        "\n",
        "class Car(Vehicle):\n",
        "    def __init__(self, vehicle_type, brand):\n",
        "        super().__init__(vehicle_type)\n",
        "        self.brand = brand\n",
        "\n",
        "    def display_brand(self):\n",
        "        print(f\"Car brand: {self.brand}\")\n",
        "\n",
        "\n",
        "class ElectricCar(Car):\n",
        "    def __init__(self, vehicle_type, brand, battery_capacity):\n",
        "        super().__init__(vehicle_type, brand)\n",
        "        self.battery = battery_capacity\n",
        "\n",
        "    def display_battery(self):\n",
        "        print(f\"Battery capacity: {self.battery} kWh\")\n",
        "\n",
        "\n",
        "ecar = ElectricCar(\"Electric\", \"Tesla\", 75)\n",
        "\n",
        "ecar.display_type()\n",
        "ecar.display_brand()\n",
        "ecar.display_battery()\n"
      ],
      "metadata": {
        "colab": {
          "base_uri": "https://localhost:8080/"
        },
        "id": "6rh9RaT3ldNK",
        "outputId": "680d8214-18d3-4abc-c5d5-b6d78b1a2833"
      },
      "execution_count": null,
      "outputs": [
        {
          "output_type": "stream",
          "name": "stdout",
          "text": [
            "Vehicle type: Electric\n",
            "Car brand: Tesla\n",
            "Battery capacity: 75 kWh\n"
          ]
        }
      ]
    },
    {
      "cell_type": "markdown",
      "source": [
        "**4.Demonstrate polymorphism by creating a base class Bird with a method fly(). Create two derived classes\n",
        "Sparrow and Penguin that override the fly() method.**\n"
      ],
      "metadata": {
        "id": "6DT0-BYHl5KU"
      }
    },
    {
      "cell_type": "code",
      "source": [
        "\n",
        "class Bird:\n",
        "    def fly(self):\n",
        "        print(\"Bird is flying...\")\n",
        "\n",
        "\n",
        "class Sparrow(Bird):\n",
        "    def fly(self):\n",
        "        print(\"Sparrow flies swiftly in the sky.\")\n",
        "\n",
        "class Penguin(Bird):\n",
        "    def fly(self):\n",
        "        print(\"Penguin can't fly, but swims well.\")\n",
        "\n",
        "\n",
        "def make_bird_fly(bird):\n",
        "    bird.fly()\n",
        "\n",
        "\n",
        "birds = [Sparrow(), Penguin()]\n",
        "\n",
        "for bird in birds:\n",
        "    make_bird_fly(bird)\n"
      ],
      "metadata": {
        "colab": {
          "base_uri": "https://localhost:8080/"
        },
        "id": "836Fz-Mkl-BB",
        "outputId": "c143a90d-5a0e-49e3-f5ef-a20b88599bff"
      },
      "execution_count": null,
      "outputs": [
        {
          "output_type": "stream",
          "name": "stdout",
          "text": [
            "Sparrow flies swiftly in the sky.\n",
            "Penguin can't fly, but swims well.\n"
          ]
        }
      ]
    },
    {
      "cell_type": "markdown",
      "source": [
        "**5. Write a program to demonstrate encapsulation by creating a class BankAccount with private attributes\n",
        "balance and methods to deposit, withdraw, and check balance.**"
      ],
      "metadata": {
        "id": "RKIbhoYFmHKz"
      }
    },
    {
      "cell_type": "code",
      "source": [
        "class BankAccount:\n",
        "    def __init__(self, initial_balance=0):\n",
        "        self.__balance = initial_balance\n",
        "\n",
        "    def deposit(self, amount):\n",
        "        if amount > 0:\n",
        "            self.__balance += amount\n",
        "            print(f\"Deposited: ${amount}\")\n",
        "        else:\n",
        "            print(\"Deposit amount must be positive.\")\n",
        "\n",
        "    def withdraw(self, amount):\n",
        "        if amount <= self.__balance:\n",
        "            self.__balance -= amount\n",
        "            print(f\"Withdrawn: ${amount}\")\n",
        "        else:\n",
        "            print(\"Insufficient balance.\")\n",
        "\n",
        "    def check_balance(self):\n",
        "        print(f\"Current balance: ${self.__balance}\")\n",
        "\n",
        "\n",
        "account = BankAccount(100)\n",
        "account.check_balance()\n",
        "\n",
        "account.deposit(50)\n",
        "account.withdraw(30)\n",
        "\n",
        "\n"
      ],
      "metadata": {
        "colab": {
          "base_uri": "https://localhost:8080/"
        },
        "id": "RoIcqV6HmLGQ",
        "outputId": "806544b7-69d0-46ea-ee99-d3bdef49c3e3"
      },
      "execution_count": null,
      "outputs": [
        {
          "output_type": "stream",
          "name": "stdout",
          "text": [
            "Current balance: $100\n",
            "Deposited: $50\n",
            "Withdrawn: $30\n"
          ]
        }
      ]
    },
    {
      "cell_type": "markdown",
      "source": [
        "**6. Demonstrate runtime polymorphism using a method play() in a base class Instrument. Derive classes Guitar\n",
        "and Piano that implement their own version of play().**"
      ],
      "metadata": {
        "id": "MsS_oIcpmV6z"
      }
    },
    {
      "cell_type": "code",
      "source": [
        "\n",
        "class Instrument:\n",
        "    def play(self):\n",
        "        print(\"Playing an instrument...\")\n",
        "\n",
        "\n",
        "class Guitar(Instrument):\n",
        "    def play(self):\n",
        "        print(\"Strumming the guitar strings.\")\n",
        "\n",
        "\n",
        "class Piano(Instrument):\n",
        "    def play(self):\n",
        "        print(\"Playing the piano keys.\")\n",
        "\n",
        "\n",
        "def perform(instrument):\n",
        "    instrument.play()\n",
        "\n",
        "instruments = [Guitar(), Piano()]\n",
        "\n",
        "for inst in instruments:\n",
        "    perform(inst)\n"
      ],
      "metadata": {
        "colab": {
          "base_uri": "https://localhost:8080/"
        },
        "id": "S1UvsZ_2mczA",
        "outputId": "9939a9e0-c0ca-4e44-c456-dddf206ffbca"
      },
      "execution_count": null,
      "outputs": [
        {
          "output_type": "stream",
          "name": "stdout",
          "text": [
            "Strumming the guitar strings.\n",
            "Playing the piano keys.\n"
          ]
        }
      ]
    },
    {
      "cell_type": "markdown",
      "source": [
        "**7. Create a class MathOperations with a class method add_numbers() to add two numbers and a static\n",
        "method subtract_numbers() to subtract two numbers.**"
      ],
      "metadata": {
        "id": "O60hWgw6mjNk"
      }
    },
    {
      "cell_type": "code",
      "source": [
        "class MathOperations:\n",
        "    @classmethod\n",
        "    def add_numbers(cls, a, b):\n",
        "        return a + b\n",
        "\n",
        "    @staticmethod\n",
        "    def subtract_numbers(a, b):\n",
        "        return a - b\n",
        "\n",
        "\n",
        "print(MathOperations.add_numbers(10, 5))\n",
        "print(MathOperations.subtract_numbers(10, 5))\n"
      ],
      "metadata": {
        "colab": {
          "base_uri": "https://localhost:8080/"
        },
        "id": "Z66AiJn0mnjA",
        "outputId": "67475d21-4e95-4280-a797-da44bb3b6b96"
      },
      "execution_count": null,
      "outputs": [
        {
          "output_type": "stream",
          "name": "stdout",
          "text": [
            "15\n",
            "5\n"
          ]
        }
      ]
    },
    {
      "cell_type": "markdown",
      "source": [
        "**8. Implement a class Person with a class method to count the total number of persons created.**"
      ],
      "metadata": {
        "id": "GbSFkl1Cmutq"
      }
    },
    {
      "cell_type": "code",
      "source": [
        "class Person:\n",
        "    _count = 0\n",
        "\n",
        "    def __init__(self, name):\n",
        "        self.name = name\n",
        "        Person._count += 1\n",
        "\n",
        "    @classmethod\n",
        "    def get_count(cls):\n",
        "        return cls._count\n",
        "\n",
        "\n",
        "p1 = Person(\"Alice\")\n",
        "p2 = Person(\"Bob\")\n",
        "p3 = Person(\"Charlie\")\n",
        "\n",
        "print(\"Total persons created:\", Person.get_count())\n",
        "**"
      ],
      "metadata": {
        "colab": {
          "base_uri": "https://localhost:8080/"
        },
        "id": "yxO_zwuLm0EP",
        "outputId": "90f9e88c-312a-4f7c-d22b-1034d40b4621"
      },
      "execution_count": null,
      "outputs": [
        {
          "output_type": "stream",
          "name": "stdout",
          "text": [
            "Total persons created: 3\n"
          ]
        }
      ]
    },
    {
      "cell_type": "markdown",
      "source": [
        "**9. Write a class Fraction with attributes numerator and denominator. Override the str method to display the\n",
        "fraction as \"numerator/denominator\".**"
      ],
      "metadata": {
        "id": "DrROP0NDnETy"
      }
    },
    {
      "cell_type": "code",
      "source": [
        "class Fraction:\n",
        "    def __init__(self, numerator, denominator):\n",
        "        self.numerator = numerator\n",
        "        self.denominator = denominator\n",
        "\n",
        "    def __str__(self):\n",
        "        return f\"{self.numerator}/{self.denominator}\"\n",
        "\n",
        "\n",
        "f = Fraction(3, 4)\n",
        "print(f)\n"
      ],
      "metadata": {
        "colab": {
          "base_uri": "https://localhost:8080/"
        },
        "id": "5mplp7CmnGm3",
        "outputId": "17c39cb6-3734-494d-f8db-d2a09bf1d242"
      },
      "execution_count": null,
      "outputs": [
        {
          "output_type": "stream",
          "name": "stdout",
          "text": [
            "3/4\n"
          ]
        }
      ]
    },
    {
      "cell_type": "markdown",
      "source": [
        "**10. Demonstrate operator overloading by creating a class Vector and overriding the add method to add two\n",
        "vectors.**"
      ],
      "metadata": {
        "id": "WNSOkWZ6nLbM"
      }
    },
    {
      "cell_type": "code",
      "source": [
        "class Vector:\n",
        "    def __init__(self, x, y):\n",
        "        self.x = x\n",
        "        self.y = y\n",
        "\n",
        "    def __add__(self, other):\n",
        "        if isinstance(other, Vector):\n",
        "            return Vector(self.x + other.x, self.y + other.y)\n",
        "        return NotImplemented\n",
        "\n",
        "    def __str__(self):\n",
        "        return f\"Vector({self.x}, {self.y})\"\n",
        "\n",
        "\n",
        "v1 = Vector(2, 3)\n",
        "v2 = Vector(4, 1)\n",
        "v3 = v1 + v2\n",
        "print(v3)\n"
      ],
      "metadata": {
        "colab": {
          "base_uri": "https://localhost:8080/"
        },
        "id": "RT-AxnxxnQcW",
        "outputId": "7d583880-ce77-47d2-8511-e6989ff8fac1"
      },
      "execution_count": null,
      "outputs": [
        {
          "output_type": "stream",
          "name": "stdout",
          "text": [
            "Vector(6, 4)\n"
          ]
        }
      ]
    },
    {
      "cell_type": "markdown",
      "source": [
        "**11. Create a class Person with attributes name and age. Add a method greet() that prints \"Hello, my name is\n",
        "{name} and I am {age} years old.\"**"
      ],
      "metadata": {
        "id": "Hc94DOmwnV_x"
      }
    },
    {
      "cell_type": "code",
      "source": [
        "class Person:\n",
        "    def __init__(self, name, age):\n",
        "        self.name = name\n",
        "        self.age = age\n",
        "\n",
        "    def greet(self):\n",
        "        print(f\"Hello, my name is {self.name} and I am {self.age} years old.\")\n",
        "\n",
        "\n",
        "p = Person(\"Manish\", 25)\n",
        "p.greet()\n"
      ],
      "metadata": {
        "colab": {
          "base_uri": "https://localhost:8080/"
        },
        "id": "tQCmJw5Yne6-",
        "outputId": "0715b5b8-cd2c-4edc-9e2e-ab6612a2e342"
      },
      "execution_count": null,
      "outputs": [
        {
          "output_type": "stream",
          "name": "stdout",
          "text": [
            "Hello, my name is Manish and I am 25 years old.\n"
          ]
        }
      ]
    },
    {
      "cell_type": "markdown",
      "source": [
        "**12. Implement a class Student with attributes name and grades. Create a method average_grade() to compute\n",
        "the average of the grades.**"
      ],
      "metadata": {
        "id": "zxTEgS53nm6A"
      }
    },
    {
      "cell_type": "code",
      "source": [
        "class Student:\n",
        "    def __init__(self, name, grades):\n",
        "        self.name = name\n",
        "        self.grades = grades\n",
        "\n",
        "    def average_grade(self):\n",
        "        if not self.grades:\n",
        "            return 0\n",
        "        return sum(self.grades) / len(self.grades)\n",
        "\n",
        "\n",
        "s = Student(\"Manish\", [85, 90, 78, 92])\n",
        "print(f\"{s.name}'s average grade: {s.average_grade():.2f}\")\n"
      ],
      "metadata": {
        "colab": {
          "base_uri": "https://localhost:8080/"
        },
        "id": "6oEFx9Gonrz2",
        "outputId": "1d0d64f9-14b5-4074-c252-423b75debde3"
      },
      "execution_count": null,
      "outputs": [
        {
          "output_type": "stream",
          "name": "stdout",
          "text": [
            "Manish's average grade: 86.25\n"
          ]
        }
      ]
    },
    {
      "cell_type": "markdown",
      "source": [
        "**13. Create a class Rectangle with methods set_dimensions() to set the dimensions and area() to calculate the\n",
        "area.**"
      ],
      "metadata": {
        "id": "8fE5j5jEnylx"
      }
    },
    {
      "cell_type": "code",
      "source": [
        "class Rectangle:\n",
        "    def __init__(self):\n",
        "        self.width = 0\n",
        "        self.height = 0\n",
        "\n",
        "    def set_dimensions(self, width, height):\n",
        "        self.width = width\n",
        "        self.height = height\n",
        "\n",
        "    def area(self):\n",
        "        return self.width * self.height\n",
        "\n",
        "\n",
        "rect = Rectangle()\n",
        "rect.set_dimensions(5, 10)\n",
        "print(f\"Area of rectangle: {rect.area()}\")\n"
      ],
      "metadata": {
        "colab": {
          "base_uri": "https://localhost:8080/"
        },
        "id": "7HkbMK2xn1eF",
        "outputId": "5a157049-cde1-4fd4-e6a4-b8403761d7d3"
      },
      "execution_count": null,
      "outputs": [
        {
          "output_type": "stream",
          "name": "stdout",
          "text": [
            "Area of rectangle: 50\n"
          ]
        }
      ]
    },
    {
      "cell_type": "markdown",
      "source": [
        "**14. Create a class Employee with a method calculate_salary() that computes the salary based on hours worked\n",
        "and hourly rate. Create a derived class Manager that adds a bonus to the salary.**"
      ],
      "metadata": {
        "id": "S0cjiM_vn_G3"
      }
    },
    {
      "cell_type": "code",
      "source": [
        "class Employee:\n",
        "    def __init__(self, name, hours_worked, hourly_rate):\n",
        "        self.name = name\n",
        "        self.hours_worked = hours_worked\n",
        "        self.hourly_rate = hourly_rate\n",
        "\n",
        "    def calculate_salary(self):\n",
        "        return self.hours_worked * self.hourly_rate\n",
        "\n",
        "class Manager(Employee):\n",
        "    def __init__(self, name, hours_worked, hourly_rate, bonus):\n",
        "        super().__init__(name, hours_worked, hourly_rate)\n",
        "        self.bonus = bonus\n",
        "\n",
        "    def calculate_salary(self):\n",
        "        base_salary = super().calculate_salary()\n",
        "        return base_salary + self.bonus\n",
        "\n",
        "\n",
        "e = Employee(\"Manish\", 40, 25)\n",
        "m = Manager(\"Jay\", 40, 30, 500)\n",
        "\n",
        "print(f\"{e.name}'s salary: ${e.calculate_salary()}\")\n",
        "print(f\"{m.name}'s salary: ${m.calculate_salary()}\")\n"
      ],
      "metadata": {
        "colab": {
          "base_uri": "https://localhost:8080/"
        },
        "id": "pSHznNGWoDKN",
        "outputId": "ded7601f-54e1-4000-d86c-4049e972a488"
      },
      "execution_count": null,
      "outputs": [
        {
          "output_type": "stream",
          "name": "stdout",
          "text": [
            "Manish's salary: $1000\n",
            "Jay's salary: $1700\n"
          ]
        }
      ]
    },
    {
      "cell_type": "markdown",
      "source": [
        "**15. Create a class Product with attributes name, price, and quantity. Implement a method total_price() that\n",
        "calculates the total price of the product.**"
      ],
      "metadata": {
        "id": "KELl_skkoMav"
      }
    },
    {
      "cell_type": "code",
      "source": [
        "class Product:\n",
        "    def __init__(self, name, price, quantity):\n",
        "        self.name = name\n",
        "        self.price = price\n",
        "        self.quantity = quantity\n",
        "\n",
        "    def total_price(self):\n",
        "        return self.price * self.quantity\n",
        "\n",
        "\n",
        "p = Product(\"Laptop\", 1200, 3)\n",
        "print(f\"Total price for {p.quantity} {p.name}(s): ${p.total_price()}\")\n"
      ],
      "metadata": {
        "colab": {
          "base_uri": "https://localhost:8080/"
        },
        "id": "heu18JV4oRIt",
        "outputId": "61688019-283b-4eac-c24a-3c4323161fd2"
      },
      "execution_count": null,
      "outputs": [
        {
          "output_type": "stream",
          "name": "stdout",
          "text": [
            "Total price for 3 Laptop(s): $3600\n"
          ]
        }
      ]
    },
    {
      "cell_type": "markdown",
      "source": [
        "**16. Create a class Animal with an abstract method sound(). Create two derived classes Cow and Sheep that\n",
        "implement the sound() method.**"
      ],
      "metadata": {
        "id": "nATllecWoYEH"
      }
    },
    {
      "cell_type": "code",
      "source": [
        "from abc import ABC, abstractmethod\n",
        "\n",
        "class Animal(ABC):\n",
        "    @abstractmethod\n",
        "    def sound(self):\n",
        "        pass\n",
        "\n",
        "class Cow(Animal):\n",
        "    def sound(self):\n",
        "        print(\"Moo\")\n",
        "\n",
        "class Sheep(Animal):\n",
        "    def sound(self):\n",
        "        print(\"Baa\")\n",
        "\n",
        "\n",
        "animals = [Cow(), Sheep()]\n",
        "\n",
        "for animal in animals:\n",
        "    animal.sound()\n"
      ],
      "metadata": {
        "colab": {
          "base_uri": "https://localhost:8080/"
        },
        "id": "_a5a4XHnoa7t",
        "outputId": "0f428004-737c-4efb-f42a-9822c7dee02a"
      },
      "execution_count": null,
      "outputs": [
        {
          "output_type": "stream",
          "name": "stdout",
          "text": [
            "Moo\n",
            "Baa\n"
          ]
        }
      ]
    },
    {
      "cell_type": "markdown",
      "source": [
        "**17. Create a class Book with attributes title, author, and year_published. Add a method get_book_info() that\n",
        "returns a formatted string with the book's details.**"
      ],
      "metadata": {
        "id": "2qAV3ygWohkZ"
      }
    },
    {
      "cell_type": "code",
      "source": [
        "class Book:\n",
        "    def __init__(self, title, author, year_published):\n",
        "        self.title = title\n",
        "        self.author = author\n",
        "        self.year_published = year_published\n",
        "\n",
        "    def get_book_info(self):\n",
        "        return f\"'{self.title}' by {self.author}, published in {self.year_published}\"\n",
        "\n",
        "\n",
        "book = Book(\"1984\", \"George Orwell\", 1949)\n",
        "print(book.get_book_info())\n"
      ],
      "metadata": {
        "colab": {
          "base_uri": "https://localhost:8080/"
        },
        "id": "-wBR3caKolgU",
        "outputId": "e1242ec8-b9e3-4920-ea15-57387e8e6965"
      },
      "execution_count": null,
      "outputs": [
        {
          "output_type": "stream",
          "name": "stdout",
          "text": [
            "'1984' by George Orwell, published in 1949\n"
          ]
        }
      ]
    },
    {
      "cell_type": "markdown",
      "source": [
        "**18. Create a class House with attributes address and price. Create a derived class Mansion that adds an\n",
        "attribute number_of_rooms.**"
      ],
      "metadata": {
        "id": "Anv51KGEorPX"
      }
    },
    {
      "cell_type": "code",
      "source": [
        "class House:\n",
        "    def __init__(self, address, price):\n",
        "        self.address = address\n",
        "        self.price = price\n",
        "\n",
        "class Mansion(House):\n",
        "    def __init__(self, address, price, number_of_rooms):\n",
        "        super().__init__(address, price)\n",
        "        self.number_of_rooms = number_of_rooms\n",
        "\n",
        "\n",
        "h = House(\"123 Elm St\", 250000)\n",
        "m = Mansion(\"456 Oak Ave\", 1500000, 10)\n",
        "\n",
        "print(f\"House at {h.address} costs ${h.price}\")\n",
        "print(f\"Mansion at {m.address} costs ${m.price} and has {m.number_of_rooms} rooms\")\n"
      ],
      "metadata": {
        "colab": {
          "base_uri": "https://localhost:8080/"
        },
        "id": "pP188Ejlowgk",
        "outputId": "c7fceae1-3132-4220-d948-accbd5d11027"
      },
      "execution_count": null,
      "outputs": [
        {
          "output_type": "stream",
          "name": "stdout",
          "text": [
            "House at 123 Elm St costs $250000\n",
            "Mansion at 456 Oak Ave costs $1500000 and has 10 rooms\n"
          ]
        }
      ]
    }
  ]
}